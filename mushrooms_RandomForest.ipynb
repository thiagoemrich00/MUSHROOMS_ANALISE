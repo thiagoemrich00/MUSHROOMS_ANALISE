{
  "nbformat": 4,
  "nbformat_minor": 0,
  "metadata": {
    "colab": {
      "name": "mushrooms_RandomForest.ipynb",
      "provenance": [],
      "collapsed_sections": [],
      "include_colab_link": true
    },
    "kernelspec": {
      "name": "python3",
      "display_name": "Python 3"
    }
  },
  "cells": [
    {
      "cell_type": "markdown",
      "metadata": {
        "id": "view-in-github",
        "colab_type": "text"
      },
      "source": [
        "<a href=\"https://colab.research.google.com/github/thiagoemrich00/MUSHROOMS_ANALISE/blob/main/mushrooms_RandomForest.ipynb\" target=\"_parent\"><img src=\"https://colab.research.google.com/assets/colab-badge.svg\" alt=\"Open In Colab\"/></a>"
      ]
    },
    {
      "cell_type": "markdown",
      "metadata": {
        "id": "BMKT9bRx0vXB"
      },
      "source": [
        "# MUSHROOMS RANDON FOREST"
      ]
    },
    {
      "cell_type": "markdown",
      "metadata": {
        "id": "NTP09Meq0zPI"
      },
      "source": [
        "## Carregar a base de dados"
      ]
    },
    {
      "cell_type": "code",
      "metadata": {
        "id": "XbXSuEU90sI4"
      },
      "source": [
        "import numpy as np\n",
        "import random\n",
        "import pandas as pd\n",
        "import matplotlib.pyplot as plt\n",
        "import seaborn as sns\n",
        "\n",
        "# Seed para reprodução de resultados\n",
        "seed = 1\n",
        "random.seed(seed)\n",
        "np.random.seed(seed)"
      ],
      "execution_count": 10,
      "outputs": []
    },
    {
      "cell_type": "code",
      "metadata": {
        "colab": {
          "base_uri": "https://localhost:8080/",
          "height": 275
        },
        "id": "-ukEAv840_u8",
        "outputId": "0ca62f0c-b98e-40de-e1ab-39b099444178"
      },
      "source": [
        "df = pd.read_csv('mushrooms.csv')\n",
        "df.head()"
      ],
      "execution_count": 11,
      "outputs": [
        {
          "output_type": "execute_result",
          "data": {
            "text/html": [
              "<div>\n",
              "<style scoped>\n",
              "    .dataframe tbody tr th:only-of-type {\n",
              "        vertical-align: middle;\n",
              "    }\n",
              "\n",
              "    .dataframe tbody tr th {\n",
              "        vertical-align: top;\n",
              "    }\n",
              "\n",
              "    .dataframe thead th {\n",
              "        text-align: right;\n",
              "    }\n",
              "</style>\n",
              "<table border=\"1\" class=\"dataframe\">\n",
              "  <thead>\n",
              "    <tr style=\"text-align: right;\">\n",
              "      <th></th>\n",
              "      <th>class</th>\n",
              "      <th>cap-shape</th>\n",
              "      <th>cap-surface</th>\n",
              "      <th>cap-color</th>\n",
              "      <th>bruises</th>\n",
              "      <th>odor</th>\n",
              "      <th>gill-attachment</th>\n",
              "      <th>gill-spacing</th>\n",
              "      <th>gill-size</th>\n",
              "      <th>gill-color</th>\n",
              "      <th>stalk-shape</th>\n",
              "      <th>stalk-root</th>\n",
              "      <th>stalk-surface-above-ring</th>\n",
              "      <th>stalk-surface-below-ring</th>\n",
              "      <th>stalk-color-above-ring</th>\n",
              "      <th>stalk-color-below-ring</th>\n",
              "      <th>veil-type</th>\n",
              "      <th>veil-color</th>\n",
              "      <th>ring-number</th>\n",
              "      <th>ring-type</th>\n",
              "      <th>spore-print-color</th>\n",
              "      <th>population</th>\n",
              "      <th>habitat</th>\n",
              "    </tr>\n",
              "  </thead>\n",
              "  <tbody>\n",
              "    <tr>\n",
              "      <th>0</th>\n",
              "      <td>p</td>\n",
              "      <td>x</td>\n",
              "      <td>s</td>\n",
              "      <td>n</td>\n",
              "      <td>t</td>\n",
              "      <td>p</td>\n",
              "      <td>f</td>\n",
              "      <td>c</td>\n",
              "      <td>n</td>\n",
              "      <td>k</td>\n",
              "      <td>e</td>\n",
              "      <td>e</td>\n",
              "      <td>s</td>\n",
              "      <td>s</td>\n",
              "      <td>w</td>\n",
              "      <td>w</td>\n",
              "      <td>p</td>\n",
              "      <td>w</td>\n",
              "      <td>o</td>\n",
              "      <td>p</td>\n",
              "      <td>k</td>\n",
              "      <td>s</td>\n",
              "      <td>u</td>\n",
              "    </tr>\n",
              "    <tr>\n",
              "      <th>1</th>\n",
              "      <td>e</td>\n",
              "      <td>x</td>\n",
              "      <td>s</td>\n",
              "      <td>y</td>\n",
              "      <td>t</td>\n",
              "      <td>a</td>\n",
              "      <td>f</td>\n",
              "      <td>c</td>\n",
              "      <td>b</td>\n",
              "      <td>k</td>\n",
              "      <td>e</td>\n",
              "      <td>c</td>\n",
              "      <td>s</td>\n",
              "      <td>s</td>\n",
              "      <td>w</td>\n",
              "      <td>w</td>\n",
              "      <td>p</td>\n",
              "      <td>w</td>\n",
              "      <td>o</td>\n",
              "      <td>p</td>\n",
              "      <td>n</td>\n",
              "      <td>n</td>\n",
              "      <td>g</td>\n",
              "    </tr>\n",
              "    <tr>\n",
              "      <th>2</th>\n",
              "      <td>e</td>\n",
              "      <td>b</td>\n",
              "      <td>s</td>\n",
              "      <td>w</td>\n",
              "      <td>t</td>\n",
              "      <td>l</td>\n",
              "      <td>f</td>\n",
              "      <td>c</td>\n",
              "      <td>b</td>\n",
              "      <td>n</td>\n",
              "      <td>e</td>\n",
              "      <td>c</td>\n",
              "      <td>s</td>\n",
              "      <td>s</td>\n",
              "      <td>w</td>\n",
              "      <td>w</td>\n",
              "      <td>p</td>\n",
              "      <td>w</td>\n",
              "      <td>o</td>\n",
              "      <td>p</td>\n",
              "      <td>n</td>\n",
              "      <td>n</td>\n",
              "      <td>m</td>\n",
              "    </tr>\n",
              "    <tr>\n",
              "      <th>3</th>\n",
              "      <td>p</td>\n",
              "      <td>x</td>\n",
              "      <td>y</td>\n",
              "      <td>w</td>\n",
              "      <td>t</td>\n",
              "      <td>p</td>\n",
              "      <td>f</td>\n",
              "      <td>c</td>\n",
              "      <td>n</td>\n",
              "      <td>n</td>\n",
              "      <td>e</td>\n",
              "      <td>e</td>\n",
              "      <td>s</td>\n",
              "      <td>s</td>\n",
              "      <td>w</td>\n",
              "      <td>w</td>\n",
              "      <td>p</td>\n",
              "      <td>w</td>\n",
              "      <td>o</td>\n",
              "      <td>p</td>\n",
              "      <td>k</td>\n",
              "      <td>s</td>\n",
              "      <td>u</td>\n",
              "    </tr>\n",
              "    <tr>\n",
              "      <th>4</th>\n",
              "      <td>e</td>\n",
              "      <td>x</td>\n",
              "      <td>s</td>\n",
              "      <td>g</td>\n",
              "      <td>f</td>\n",
              "      <td>n</td>\n",
              "      <td>f</td>\n",
              "      <td>w</td>\n",
              "      <td>b</td>\n",
              "      <td>k</td>\n",
              "      <td>t</td>\n",
              "      <td>e</td>\n",
              "      <td>s</td>\n",
              "      <td>s</td>\n",
              "      <td>w</td>\n",
              "      <td>w</td>\n",
              "      <td>p</td>\n",
              "      <td>w</td>\n",
              "      <td>o</td>\n",
              "      <td>e</td>\n",
              "      <td>n</td>\n",
              "      <td>a</td>\n",
              "      <td>g</td>\n",
              "    </tr>\n",
              "  </tbody>\n",
              "</table>\n",
              "</div>"
            ],
            "text/plain": [
              "  class cap-shape cap-surface  ... spore-print-color population habitat\n",
              "0     p         x           s  ...                 k          s       u\n",
              "1     e         x           s  ...                 n          n       g\n",
              "2     e         b           s  ...                 n          n       m\n",
              "3     p         x           y  ...                 k          s       u\n",
              "4     e         x           s  ...                 n          a       g\n",
              "\n",
              "[5 rows x 23 columns]"
            ]
          },
          "metadata": {},
          "execution_count": 11
        }
      ]
    },
    {
      "cell_type": "code",
      "metadata": {
        "colab": {
          "base_uri": "https://localhost:8080/"
        },
        "id": "Gs87bjO_1fMb",
        "outputId": "438ee299-cb89-44be-9ce1-6d5d7bfdb94d"
      },
      "source": [
        "# dimensões da base\n",
        "df.shape"
      ],
      "execution_count": 12,
      "outputs": [
        {
          "output_type": "execute_result",
          "data": {
            "text/plain": [
              "(8124, 23)"
            ]
          },
          "metadata": {},
          "execution_count": 12
        }
      ]
    },
    {
      "cell_type": "code",
      "metadata": {
        "id": "VEFXJiMIKlnF"
      },
      "source": [
        ""
      ],
      "execution_count": 12,
      "outputs": []
    },
    {
      "cell_type": "markdown",
      "metadata": {
        "id": "jcn8BmKMFlFj"
      },
      "source": [
        "![image.png](data:image/png;base64,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)"
      ]
    },
    {
      "cell_type": "code",
      "metadata": {
        "id": "x52rX0k1uJU4"
      },
      "source": [
        "#converter o rótulo categórico em numérico usando o OneHotEncoder\n",
        "\n",
        "''' Optou-se por utilizar o OneHotEncoder, pois para características categóricas\n",
        " não fazia sentido utilizar o LabelEncoder. exemplo: formato do capô do cogumelo: \n",
        "cônico, convexo, flat, formato de sino...\n",
        "'''\n",
        "'''\n",
        "OneHotEncoder desdobra uma coluna com n valores em n colunas com valores binários (0,1), \n",
        "sendo que drop_first = True elimina a criação da primeira coluna. Exemplo: a coluna \n",
        "class é desmembrada em 2 colunas class_e(edible=comestível) e class_p(poisonous=venenoso), \n",
        "sendo posteriormente deletada a primeira coluna class_e. Quando o valor de class_p\n",
        "for 0, significa que é comestível, quando for 1, significa que é venenoso.\n",
        "'''\n",
        "\n",
        "dummies = pd.get_dummies(df, drop_first=True)  "
      ],
      "execution_count": 13,
      "outputs": []
    },
    {
      "cell_type": "markdown",
      "metadata": {
        "id": "kL7Bsivk1q9x"
      },
      "source": [
        "## Separar base em treino e teste"
      ]
    },
    {
      "cell_type": "code",
      "metadata": {
        "colab": {
          "base_uri": "https://localhost:8080/"
        },
        "id": "FRLUbNFo2RQi",
        "outputId": "ea252811-9bf6-4cc3-86e5-4715e429db17"
      },
      "source": [
        "from sklearn.model_selection import train_test_split\n",
        "X = dummies.loc[:,dummies.columns != 'class_p']  # inputs\n",
        "y = dummies['class_p']                      # outputs\n",
        "X_train, X_test, y_train, y_test = train_test_split(X, y, test_size=0.2, stratify=y)\n",
        "\n",
        "print(X_train.shape)\n",
        "print(X_test.shape)\n",
        "print(y_train.shape)\n",
        "print(y_test.shape)"
      ],
      "execution_count": 14,
      "outputs": [
        {
          "output_type": "stream",
          "text": [
            "(6499, 95)\n",
            "(1625, 95)\n",
            "(6499,)\n",
            "(1625,)\n"
          ],
          "name": "stdout"
        }
      ]
    },
    {
      "cell_type": "markdown",
      "metadata": {
        "id": "YE-iJNuk45CX"
      },
      "source": [
        "## Random Forest"
      ]
    },
    {
      "cell_type": "code",
      "metadata": {
        "id": "R-OjxiyS4i2U"
      },
      "source": [
        "# gerei meu modelo de random forest\n",
        "from sklearn.ensemble import RandomForestClassifier\n",
        "model = RandomForestClassifier(n_estimators=100,max_depth=4)\n",
        "model.fit(X_train, y_train);"
      ],
      "execution_count": 15,
      "outputs": []
    },
    {
      "cell_type": "code",
      "metadata": {
        "colab": {
          "base_uri": "https://localhost:8080/"
        },
        "id": "Qocr5FYc8LnM",
        "outputId": "b46d230e-5485-4d94-f9c2-8b538475ce9f"
      },
      "source": [
        "# avaliar o teste\n",
        "acc = model.score(X_train, y_train)*100 # acurácia de treino (percentual)\n",
        "print('A acurácia do modelo na base de treino é de: ', acc, '%')"
      ],
      "execution_count": 16,
      "outputs": [
        {
          "output_type": "stream",
          "text": [
            "A acurácia do modelo na base de treino é de:  99.046007078012 %\n"
          ],
          "name": "stdout"
        }
      ]
    },
    {
      "cell_type": "code",
      "metadata": {
        "colab": {
          "base_uri": "https://localhost:8080/"
        },
        "id": "uB_I5jNd5RWt",
        "outputId": "d4c5aad1-5729-40b2-9b53-596688a498f4"
      },
      "source": [
        "# avaliar o teste\n",
        "acc = model.score(X_test, y_test)*100 # acurácia de teste (percentual)\n",
        "print('A acurácia do modelo na base de teste é de: ', acc, '%')"
      ],
      "execution_count": 17,
      "outputs": [
        {
          "output_type": "stream",
          "text": [
            "A acurácia do modelo na base de teste é de:  98.8923076923077 %\n"
          ],
          "name": "stdout"
        }
      ]
    },
    {
      "cell_type": "code",
      "metadata": {
        "colab": {
          "base_uri": "https://localhost:8080/",
          "height": 346
        },
        "id": "tNY4_Ge6i4hD",
        "outputId": "2bbd1d7e-a798-4628-a522-9234f1132032"
      },
      "source": [
        "def predict_and_evaluate(model, X_test, y_test):\n",
        "\n",
        "  y_pred = model.predict(X_test) #inferência do teste\n",
        "\n",
        "  # Acurácia\n",
        "  from sklearn.metrics import accuracy_score\n",
        "  accuracy = accuracy_score(y_test, y_pred)\n",
        "  print('Acurácia: ', accuracy)\n",
        "\n",
        "  # Kappa\n",
        "  from sklearn.metrics import cohen_kappa_score\n",
        "  kappa = cohen_kappa_score(y_test, y_pred)\n",
        "  print('Kappa: ', kappa)\n",
        "\n",
        "  # F1\n",
        "  from sklearn.metrics import f1_score\n",
        "  f1 = f1_score(y_test, y_pred, average='macro')\n",
        "  print('F1: ', f1)\n",
        "\n",
        "  # Matriz de confusão\n",
        "  from sklearn.metrics import confusion_matrix\n",
        "  confMatrix = confusion_matrix(y_pred, y_test)\n",
        "\n",
        "  ax = plt.subplot()\n",
        "  sns.heatmap(confMatrix, annot=True, fmt=\".0f\")\n",
        "  plt.xlabel('Real')\n",
        "  plt.ylabel('Previsto')\n",
        "  plt.title('Matriz de Confusão')\n",
        "\n",
        "  # Colocar os nomes\n",
        "  ax.xaxis.set_ticklabels(list(map(str,y_train.unique()))) \n",
        "  ax.yaxis.set_ticklabels(list(map(str,y_train.unique())))\n",
        "  plt.show()\n",
        "\n",
        "predict_and_evaluate(model, X_test, y_test)"
      ],
      "execution_count": 18,
      "outputs": [
        {
          "output_type": "stream",
          "text": [
            "Acurácia:  0.9889230769230769\n",
            "Kappa:  0.9777990299883872\n",
            "F1:  0.9888981499193834\n"
          ],
          "name": "stdout"
        },
        {
          "output_type": "display_data",
          "data": {
            "image/png": "[encoded data removed]",
            "text/plain": [
              "<Figure size 432x288 with 2 Axes>"
            ]
          },
          "metadata": {
            "needs_background": "light"
          }
        }
      ]
    },
    {
      "cell_type": "markdown",
      "metadata": {
        "id": "d5hN_uBsCeD5"
      },
      "source": [
        "## Fazer previsões em todo o banco de dados (incluindo teste e treino)"
      ]
    },
    {
      "cell_type": "code",
      "metadata": {
        "id": "FUJDwE9ZBOSf",
        "colab": {
          "base_uri": "https://localhost:8080/"
        },
        "outputId": "8566fc3a-41b6-42e4-b4fe-247dfacb775d"
      },
      "source": [
        "# carregar base a ser inferida\n",
        "df_infer = pd.read_csv('mushrooms.csv')\n",
        "df_infer.shape"
      ],
      "execution_count": 19,
      "outputs": [
        {
          "output_type": "execute_result",
          "data": {
            "text/plain": [
              "(8124, 23)"
            ]
          },
          "metadata": {},
          "execution_count": 19
        }
      ]
    },
    {
      "cell_type": "code",
      "metadata": {
        "id": "v18wFqx2C0yc",
        "colab": {
          "base_uri": "https://localhost:8080/",
          "height": 275
        },
        "outputId": "20fa74b8-3aaf-419b-ec0e-1194c3014a97"
      },
      "source": [
        "df_infer.head()"
      ],
      "execution_count": 20,
      "outputs": [
        {
          "output_type": "execute_result",
          "data": {
            "text/html": [
              "<div>\n",
              "<style scoped>\n",
              "    .dataframe tbody tr th:only-of-type {\n",
              "        vertical-align: middle;\n",
              "    }\n",
              "\n",
              "    .dataframe tbody tr th {\n",
              "        vertical-align: top;\n",
              "    }\n",
              "\n",
              "    .dataframe thead th {\n",
              "        text-align: right;\n",
              "    }\n",
              "</style>\n",
              "<table border=\"1\" class=\"dataframe\">\n",
              "  <thead>\n",
              "    <tr style=\"text-align: right;\">\n",
              "      <th></th>\n",
              "      <th>class</th>\n",
              "      <th>cap-shape</th>\n",
              "      <th>cap-surface</th>\n",
              "      <th>cap-color</th>\n",
              "      <th>bruises</th>\n",
              "      <th>odor</th>\n",
              "      <th>gill-attachment</th>\n",
              "      <th>gill-spacing</th>\n",
              "      <th>gill-size</th>\n",
              "      <th>gill-color</th>\n",
              "      <th>stalk-shape</th>\n",
              "      <th>stalk-root</th>\n",
              "      <th>stalk-surface-above-ring</th>\n",
              "      <th>stalk-surface-below-ring</th>\n",
              "      <th>stalk-color-above-ring</th>\n",
              "      <th>stalk-color-below-ring</th>\n",
              "      <th>veil-type</th>\n",
              "      <th>veil-color</th>\n",
              "      <th>ring-number</th>\n",
              "      <th>ring-type</th>\n",
              "      <th>spore-print-color</th>\n",
              "      <th>population</th>\n",
              "      <th>habitat</th>\n",
              "    </tr>\n",
              "  </thead>\n",
              "  <tbody>\n",
              "    <tr>\n",
              "      <th>0</th>\n",
              "      <td>p</td>\n",
              "      <td>x</td>\n",
              "      <td>s</td>\n",
              "      <td>n</td>\n",
              "      <td>t</td>\n",
              "      <td>p</td>\n",
              "      <td>f</td>\n",
              "      <td>c</td>\n",
              "      <td>n</td>\n",
              "      <td>k</td>\n",
              "      <td>e</td>\n",
              "      <td>e</td>\n",
              "      <td>s</td>\n",
              "      <td>s</td>\n",
              "      <td>w</td>\n",
              "      <td>w</td>\n",
              "      <td>p</td>\n",
              "      <td>w</td>\n",
              "      <td>o</td>\n",
              "      <td>p</td>\n",
              "      <td>k</td>\n",
              "      <td>s</td>\n",
              "      <td>u</td>\n",
              "    </tr>\n",
              "    <tr>\n",
              "      <th>1</th>\n",
              "      <td>e</td>\n",
              "      <td>x</td>\n",
              "      <td>s</td>\n",
              "      <td>y</td>\n",
              "      <td>t</td>\n",
              "      <td>a</td>\n",
              "      <td>f</td>\n",
              "      <td>c</td>\n",
              "      <td>b</td>\n",
              "      <td>k</td>\n",
              "      <td>e</td>\n",
              "      <td>c</td>\n",
              "      <td>s</td>\n",
              "      <td>s</td>\n",
              "      <td>w</td>\n",
              "      <td>w</td>\n",
              "      <td>p</td>\n",
              "      <td>w</td>\n",
              "      <td>o</td>\n",
              "      <td>p</td>\n",
              "      <td>n</td>\n",
              "      <td>n</td>\n",
              "      <td>g</td>\n",
              "    </tr>\n",
              "    <tr>\n",
              "      <th>2</th>\n",
              "      <td>e</td>\n",
              "      <td>b</td>\n",
              "      <td>s</td>\n",
              "      <td>w</td>\n",
              "      <td>t</td>\n",
              "      <td>l</td>\n",
              "      <td>f</td>\n",
              "      <td>c</td>\n",
              "      <td>b</td>\n",
              "      <td>n</td>\n",
              "      <td>e</td>\n",
              "      <td>c</td>\n",
              "      <td>s</td>\n",
              "      <td>s</td>\n",
              "      <td>w</td>\n",
              "      <td>w</td>\n",
              "      <td>p</td>\n",
              "      <td>w</td>\n",
              "      <td>o</td>\n",
              "      <td>p</td>\n",
              "      <td>n</td>\n",
              "      <td>n</td>\n",
              "      <td>m</td>\n",
              "    </tr>\n",
              "    <tr>\n",
              "      <th>3</th>\n",
              "      <td>p</td>\n",
              "      <td>x</td>\n",
              "      <td>y</td>\n",
              "      <td>w</td>\n",
              "      <td>t</td>\n",
              "      <td>p</td>\n",
              "      <td>f</td>\n",
              "      <td>c</td>\n",
              "      <td>n</td>\n",
              "      <td>n</td>\n",
              "      <td>e</td>\n",
              "      <td>e</td>\n",
              "      <td>s</td>\n",
              "      <td>s</td>\n",
              "      <td>w</td>\n",
              "      <td>w</td>\n",
              "      <td>p</td>\n",
              "      <td>w</td>\n",
              "      <td>o</td>\n",
              "      <td>p</td>\n",
              "      <td>k</td>\n",
              "      <td>s</td>\n",
              "      <td>u</td>\n",
              "    </tr>\n",
              "    <tr>\n",
              "      <th>4</th>\n",
              "      <td>e</td>\n",
              "      <td>x</td>\n",
              "      <td>s</td>\n",
              "      <td>g</td>\n",
              "      <td>f</td>\n",
              "      <td>n</td>\n",
              "      <td>f</td>\n",
              "      <td>w</td>\n",
              "      <td>b</td>\n",
              "      <td>k</td>\n",
              "      <td>t</td>\n",
              "      <td>e</td>\n",
              "      <td>s</td>\n",
              "      <td>s</td>\n",
              "      <td>w</td>\n",
              "      <td>w</td>\n",
              "      <td>p</td>\n",
              "      <td>w</td>\n",
              "      <td>o</td>\n",
              "      <td>e</td>\n",
              "      <td>n</td>\n",
              "      <td>a</td>\n",
              "      <td>g</td>\n",
              "    </tr>\n",
              "  </tbody>\n",
              "</table>\n",
              "</div>"
            ],
            "text/plain": [
              "  class cap-shape cap-surface  ... spore-print-color population habitat\n",
              "0     p         x           s  ...                 k          s       u\n",
              "1     e         x           s  ...                 n          n       g\n",
              "2     e         b           s  ...                 n          n       m\n",
              "3     p         x           y  ...                 k          s       u\n",
              "4     e         x           s  ...                 n          a       g\n",
              "\n",
              "[5 rows x 23 columns]"
            ]
          },
          "metadata": {},
          "execution_count": 20
        }
      ]
    },
    {
      "cell_type": "code",
      "metadata": {
        "id": "4eAYomY82wVD"
      },
      "source": [
        "#converter o rótulo categórico em numérico usando o OneHotEncoder\n",
        "df_infer_dummies = pd.get_dummies(df_infer, drop_first=True)  \n",
        "# REtirar a coluna class_p\n",
        "X_df_infer_dummies = df_infer_dummies.loc[:,df_infer_dummies.columns != 'class_p']  # inputs\n",
        "y_df_infer_dummies = df_infer_dummies['class_p']                      # outputs\n"
      ],
      "execution_count": 21,
      "outputs": []
    },
    {
      "cell_type": "code",
      "metadata": {
        "id": "epqk_ZYpC3uf",
        "colab": {
          "base_uri": "https://localhost:8080/"
        },
        "outputId": "e66b1fd5-d941-44b3-99f6-ae90fabab2f5"
      },
      "source": [
        "# Fazer previsões\n",
        "predictions = model.predict(X_df_infer_dummies)\n",
        "\n",
        "# visualizar previsões\n",
        "predictions"
      ],
      "execution_count": 22,
      "outputs": [
        {
          "output_type": "execute_result",
          "data": {
            "text/plain": [
              "array([1, 0, 0, ..., 0, 1, 0], dtype=uint8)"
            ]
          },
          "metadata": {},
          "execution_count": 22
        }
      ]
    },
    {
      "cell_type": "code",
      "metadata": {
        "id": "4MWlFgt30O3D",
        "colab": {
          "base_uri": "https://localhost:8080/",
          "height": 304
        },
        "outputId": "01044813-11e0-43b2-b05f-f9e28fef3524"
      },
      "source": [
        "# Juntar ao dataset\n",
        "X_df_infer_dummies['previsoes'] = predictions\n",
        "X_df_infer_dummies.head()"
      ],
      "execution_count": 23,
      "outputs": [
        {
          "output_type": "execute_result",
          "data": {
            "text/html": [
              "<div>\n",
              "<style scoped>\n",
              "    .dataframe tbody tr th:only-of-type {\n",
              "        vertical-align: middle;\n",
              "    }\n",
              "\n",
              "    .dataframe tbody tr th {\n",
              "        vertical-align: top;\n",
              "    }\n",
              "\n",
              "    .dataframe thead th {\n",
              "        text-align: right;\n",
              "    }\n",
              "</style>\n",
              "<table border=\"1\" class=\"dataframe\">\n",
              "  <thead>\n",
              "    <tr style=\"text-align: right;\">\n",
              "      <th></th>\n",
              "      <th>cap-shape_c</th>\n",
              "      <th>cap-shape_f</th>\n",
              "      <th>cap-shape_k</th>\n",
              "      <th>cap-shape_s</th>\n",
              "      <th>cap-shape_x</th>\n",
              "      <th>cap-surface_g</th>\n",
              "      <th>cap-surface_s</th>\n",
              "      <th>cap-surface_y</th>\n",
              "      <th>cap-color_c</th>\n",
              "      <th>cap-color_e</th>\n",
              "      <th>cap-color_g</th>\n",
              "      <th>cap-color_n</th>\n",
              "      <th>cap-color_p</th>\n",
              "      <th>cap-color_r</th>\n",
              "      <th>cap-color_u</th>\n",
              "      <th>cap-color_w</th>\n",
              "      <th>cap-color_y</th>\n",
              "      <th>bruises_t</th>\n",
              "      <th>odor_c</th>\n",
              "      <th>odor_f</th>\n",
              "      <th>odor_l</th>\n",
              "      <th>odor_m</th>\n",
              "      <th>odor_n</th>\n",
              "      <th>odor_p</th>\n",
              "      <th>odor_s</th>\n",
              "      <th>odor_y</th>\n",
              "      <th>gill-attachment_f</th>\n",
              "      <th>gill-spacing_w</th>\n",
              "      <th>gill-size_n</th>\n",
              "      <th>gill-color_e</th>\n",
              "      <th>gill-color_g</th>\n",
              "      <th>gill-color_h</th>\n",
              "      <th>gill-color_k</th>\n",
              "      <th>gill-color_n</th>\n",
              "      <th>gill-color_o</th>\n",
              "      <th>gill-color_p</th>\n",
              "      <th>gill-color_r</th>\n",
              "      <th>gill-color_u</th>\n",
              "      <th>gill-color_w</th>\n",
              "      <th>gill-color_y</th>\n",
              "      <th>...</th>\n",
              "      <th>stalk-color-above-ring_p</th>\n",
              "      <th>stalk-color-above-ring_w</th>\n",
              "      <th>stalk-color-above-ring_y</th>\n",
              "      <th>stalk-color-below-ring_c</th>\n",
              "      <th>stalk-color-below-ring_e</th>\n",
              "      <th>stalk-color-below-ring_g</th>\n",
              "      <th>stalk-color-below-ring_n</th>\n",
              "      <th>stalk-color-below-ring_o</th>\n",
              "      <th>stalk-color-below-ring_p</th>\n",
              "      <th>stalk-color-below-ring_w</th>\n",
              "      <th>stalk-color-below-ring_y</th>\n",
              "      <th>veil-color_o</th>\n",
              "      <th>veil-color_w</th>\n",
              "      <th>veil-color_y</th>\n",
              "      <th>ring-number_o</th>\n",
              "      <th>ring-number_t</th>\n",
              "      <th>ring-type_f</th>\n",
              "      <th>ring-type_l</th>\n",
              "      <th>ring-type_n</th>\n",
              "      <th>ring-type_p</th>\n",
              "      <th>spore-print-color_h</th>\n",
              "      <th>spore-print-color_k</th>\n",
              "      <th>spore-print-color_n</th>\n",
              "      <th>spore-print-color_o</th>\n",
              "      <th>spore-print-color_r</th>\n",
              "      <th>spore-print-color_u</th>\n",
              "      <th>spore-print-color_w</th>\n",
              "      <th>spore-print-color_y</th>\n",
              "      <th>population_c</th>\n",
              "      <th>population_n</th>\n",
              "      <th>population_s</th>\n",
              "      <th>population_v</th>\n",
              "      <th>population_y</th>\n",
              "      <th>habitat_g</th>\n",
              "      <th>habitat_l</th>\n",
              "      <th>habitat_m</th>\n",
              "      <th>habitat_p</th>\n",
              "      <th>habitat_u</th>\n",
              "      <th>habitat_w</th>\n",
              "      <th>previsoes</th>\n",
              "    </tr>\n",
              "  </thead>\n",
              "  <tbody>\n",
              "    <tr>\n",
              "      <th>0</th>\n",
              "      <td>0</td>\n",
              "      <td>0</td>\n",
              "      <td>0</td>\n",
              "      <td>0</td>\n",
              "      <td>1</td>\n",
              "      <td>0</td>\n",
              "      <td>1</td>\n",
              "      <td>0</td>\n",
              "      <td>0</td>\n",
              "      <td>0</td>\n",
              "      <td>0</td>\n",
              "      <td>1</td>\n",
              "      <td>0</td>\n",
              "      <td>0</td>\n",
              "      <td>0</td>\n",
              "      <td>0</td>\n",
              "      <td>0</td>\n",
              "      <td>1</td>\n",
              "      <td>0</td>\n",
              "      <td>0</td>\n",
              "      <td>0</td>\n",
              "      <td>0</td>\n",
              "      <td>0</td>\n",
              "      <td>1</td>\n",
              "      <td>0</td>\n",
              "      <td>0</td>\n",
              "      <td>1</td>\n",
              "      <td>0</td>\n",
              "      <td>1</td>\n",
              "      <td>0</td>\n",
              "      <td>0</td>\n",
              "      <td>0</td>\n",
              "      <td>1</td>\n",
              "      <td>0</td>\n",
              "      <td>0</td>\n",
              "      <td>0</td>\n",
              "      <td>0</td>\n",
              "      <td>0</td>\n",
              "      <td>0</td>\n",
              "      <td>0</td>\n",
              "      <td>...</td>\n",
              "      <td>0</td>\n",
              "      <td>1</td>\n",
              "      <td>0</td>\n",
              "      <td>0</td>\n",
              "      <td>0</td>\n",
              "      <td>0</td>\n",
              "      <td>0</td>\n",
              "      <td>0</td>\n",
              "      <td>0</td>\n",
              "      <td>1</td>\n",
              "      <td>0</td>\n",
              "      <td>0</td>\n",
              "      <td>1</td>\n",
              "      <td>0</td>\n",
              "      <td>1</td>\n",
              "      <td>0</td>\n",
              "      <td>0</td>\n",
              "      <td>0</td>\n",
              "      <td>0</td>\n",
              "      <td>1</td>\n",
              "      <td>0</td>\n",
              "      <td>1</td>\n",
              "      <td>0</td>\n",
              "      <td>0</td>\n",
              "      <td>0</td>\n",
              "      <td>0</td>\n",
              "      <td>0</td>\n",
              "      <td>0</td>\n",
              "      <td>0</td>\n",
              "      <td>0</td>\n",
              "      <td>1</td>\n",
              "      <td>0</td>\n",
              "      <td>0</td>\n",
              "      <td>0</td>\n",
              "      <td>0</td>\n",
              "      <td>0</td>\n",
              "      <td>0</td>\n",
              "      <td>1</td>\n",
              "      <td>0</td>\n",
              "      <td>1</td>\n",
              "    </tr>\n",
              "    <tr>\n",
              "      <th>1</th>\n",
              "      <td>0</td>\n",
              "      <td>0</td>\n",
              "      <td>0</td>\n",
              "      <td>0</td>\n",
              "      <td>1</td>\n",
              "      <td>0</td>\n",
              "      <td>1</td>\n",
              "      <td>0</td>\n",
              "      <td>0</td>\n",
              "      <td>0</td>\n",
              "      <td>0</td>\n",
              "      <td>0</td>\n",
              "      <td>0</td>\n",
              "      <td>0</td>\n",
              "      <td>0</td>\n",
              "      <td>0</td>\n",
              "      <td>1</td>\n",
              "      <td>1</td>\n",
              "      <td>0</td>\n",
              "      <td>0</td>\n",
              "      <td>0</td>\n",
              "      <td>0</td>\n",
              "      <td>0</td>\n",
              "      <td>0</td>\n",
              "      <td>0</td>\n",
              "      <td>0</td>\n",
              "      <td>1</td>\n",
              "      <td>0</td>\n",
              "      <td>0</td>\n",
              "      <td>0</td>\n",
              "      <td>0</td>\n",
              "      <td>0</td>\n",
              "      <td>1</td>\n",
              "      <td>0</td>\n",
              "      <td>0</td>\n",
              "      <td>0</td>\n",
              "      <td>0</td>\n",
              "      <td>0</td>\n",
              "      <td>0</td>\n",
              "      <td>0</td>\n",
              "      <td>...</td>\n",
              "      <td>0</td>\n",
              "      <td>1</td>\n",
              "      <td>0</td>\n",
              "      <td>0</td>\n",
              "      <td>0</td>\n",
              "      <td>0</td>\n",
              "      <td>0</td>\n",
              "      <td>0</td>\n",
              "      <td>0</td>\n",
              "      <td>1</td>\n",
              "      <td>0</td>\n",
              "      <td>0</td>\n",
              "      <td>1</td>\n",
              "      <td>0</td>\n",
              "      <td>1</td>\n",
              "      <td>0</td>\n",
              "      <td>0</td>\n",
              "      <td>0</td>\n",
              "      <td>0</td>\n",
              "      <td>1</td>\n",
              "      <td>0</td>\n",
              "      <td>0</td>\n",
              "      <td>1</td>\n",
              "      <td>0</td>\n",
              "      <td>0</td>\n",
              "      <td>0</td>\n",
              "      <td>0</td>\n",
              "      <td>0</td>\n",
              "      <td>0</td>\n",
              "      <td>1</td>\n",
              "      <td>0</td>\n",
              "      <td>0</td>\n",
              "      <td>0</td>\n",
              "      <td>1</td>\n",
              "      <td>0</td>\n",
              "      <td>0</td>\n",
              "      <td>0</td>\n",
              "      <td>0</td>\n",
              "      <td>0</td>\n",
              "      <td>0</td>\n",
              "    </tr>\n",
              "    <tr>\n",
              "      <th>2</th>\n",
              "      <td>0</td>\n",
              "      <td>0</td>\n",
              "      <td>0</td>\n",
              "      <td>0</td>\n",
              "      <td>0</td>\n",
              "      <td>0</td>\n",
              "      <td>1</td>\n",
              "      <td>0</td>\n",
              "      <td>0</td>\n",
              "      <td>0</td>\n",
              "      <td>0</td>\n",
              "      <td>0</td>\n",
              "      <td>0</td>\n",
              "      <td>0</td>\n",
              "      <td>0</td>\n",
              "      <td>1</td>\n",
              "      <td>0</td>\n",
              "      <td>1</td>\n",
              "      <td>0</td>\n",
              "      <td>0</td>\n",
              "      <td>1</td>\n",
              "      <td>0</td>\n",
              "      <td>0</td>\n",
              "      <td>0</td>\n",
              "      <td>0</td>\n",
              "      <td>0</td>\n",
              "      <td>1</td>\n",
              "      <td>0</td>\n",
              "      <td>0</td>\n",
              "      <td>0</td>\n",
              "      <td>0</td>\n",
              "      <td>0</td>\n",
              "      <td>0</td>\n",
              "      <td>1</td>\n",
              "      <td>0</td>\n",
              "      <td>0</td>\n",
              "      <td>0</td>\n",
              "      <td>0</td>\n",
              "      <td>0</td>\n",
              "      <td>0</td>\n",
              "      <td>...</td>\n",
              "      <td>0</td>\n",
              "      <td>1</td>\n",
              "      <td>0</td>\n",
              "      <td>0</td>\n",
              "      <td>0</td>\n",
              "      <td>0</td>\n",
              "      <td>0</td>\n",
              "      <td>0</td>\n",
              "      <td>0</td>\n",
              "      <td>1</td>\n",
              "      <td>0</td>\n",
              "      <td>0</td>\n",
              "      <td>1</td>\n",
              "      <td>0</td>\n",
              "      <td>1</td>\n",
              "      <td>0</td>\n",
              "      <td>0</td>\n",
              "      <td>0</td>\n",
              "      <td>0</td>\n",
              "      <td>1</td>\n",
              "      <td>0</td>\n",
              "      <td>0</td>\n",
              "      <td>1</td>\n",
              "      <td>0</td>\n",
              "      <td>0</td>\n",
              "      <td>0</td>\n",
              "      <td>0</td>\n",
              "      <td>0</td>\n",
              "      <td>0</td>\n",
              "      <td>1</td>\n",
              "      <td>0</td>\n",
              "      <td>0</td>\n",
              "      <td>0</td>\n",
              "      <td>0</td>\n",
              "      <td>0</td>\n",
              "      <td>1</td>\n",
              "      <td>0</td>\n",
              "      <td>0</td>\n",
              "      <td>0</td>\n",
              "      <td>0</td>\n",
              "    </tr>\n",
              "    <tr>\n",
              "      <th>3</th>\n",
              "      <td>0</td>\n",
              "      <td>0</td>\n",
              "      <td>0</td>\n",
              "      <td>0</td>\n",
              "      <td>1</td>\n",
              "      <td>0</td>\n",
              "      <td>0</td>\n",
              "      <td>1</td>\n",
              "      <td>0</td>\n",
              "      <td>0</td>\n",
              "      <td>0</td>\n",
              "      <td>0</td>\n",
              "      <td>0</td>\n",
              "      <td>0</td>\n",
              "      <td>0</td>\n",
              "      <td>1</td>\n",
              "      <td>0</td>\n",
              "      <td>1</td>\n",
              "      <td>0</td>\n",
              "      <td>0</td>\n",
              "      <td>0</td>\n",
              "      <td>0</td>\n",
              "      <td>0</td>\n",
              "      <td>1</td>\n",
              "      <td>0</td>\n",
              "      <td>0</td>\n",
              "      <td>1</td>\n",
              "      <td>0</td>\n",
              "      <td>1</td>\n",
              "      <td>0</td>\n",
              "      <td>0</td>\n",
              "      <td>0</td>\n",
              "      <td>0</td>\n",
              "      <td>1</td>\n",
              "      <td>0</td>\n",
              "      <td>0</td>\n",
              "      <td>0</td>\n",
              "      <td>0</td>\n",
              "      <td>0</td>\n",
              "      <td>0</td>\n",
              "      <td>...</td>\n",
              "      <td>0</td>\n",
              "      <td>1</td>\n",
              "      <td>0</td>\n",
              "      <td>0</td>\n",
              "      <td>0</td>\n",
              "      <td>0</td>\n",
              "      <td>0</td>\n",
              "      <td>0</td>\n",
              "      <td>0</td>\n",
              "      <td>1</td>\n",
              "      <td>0</td>\n",
              "      <td>0</td>\n",
              "      <td>1</td>\n",
              "      <td>0</td>\n",
              "      <td>1</td>\n",
              "      <td>0</td>\n",
              "      <td>0</td>\n",
              "      <td>0</td>\n",
              "      <td>0</td>\n",
              "      <td>1</td>\n",
              "      <td>0</td>\n",
              "      <td>1</td>\n",
              "      <td>0</td>\n",
              "      <td>0</td>\n",
              "      <td>0</td>\n",
              "      <td>0</td>\n",
              "      <td>0</td>\n",
              "      <td>0</td>\n",
              "      <td>0</td>\n",
              "      <td>0</td>\n",
              "      <td>1</td>\n",
              "      <td>0</td>\n",
              "      <td>0</td>\n",
              "      <td>0</td>\n",
              "      <td>0</td>\n",
              "      <td>0</td>\n",
              "      <td>0</td>\n",
              "      <td>1</td>\n",
              "      <td>0</td>\n",
              "      <td>1</td>\n",
              "    </tr>\n",
              "    <tr>\n",
              "      <th>4</th>\n",
              "      <td>0</td>\n",
              "      <td>0</td>\n",
              "      <td>0</td>\n",
              "      <td>0</td>\n",
              "      <td>1</td>\n",
              "      <td>0</td>\n",
              "      <td>1</td>\n",
              "      <td>0</td>\n",
              "      <td>0</td>\n",
              "      <td>0</td>\n",
              "      <td>1</td>\n",
              "      <td>0</td>\n",
              "      <td>0</td>\n",
              "      <td>0</td>\n",
              "      <td>0</td>\n",
              "      <td>0</td>\n",
              "      <td>0</td>\n",
              "      <td>0</td>\n",
              "      <td>0</td>\n",
              "      <td>0</td>\n",
              "      <td>0</td>\n",
              "      <td>0</td>\n",
              "      <td>1</td>\n",
              "      <td>0</td>\n",
              "      <td>0</td>\n",
              "      <td>0</td>\n",
              "      <td>1</td>\n",
              "      <td>1</td>\n",
              "      <td>0</td>\n",
              "      <td>0</td>\n",
              "      <td>0</td>\n",
              "      <td>0</td>\n",
              "      <td>1</td>\n",
              "      <td>0</td>\n",
              "      <td>0</td>\n",
              "      <td>0</td>\n",
              "      <td>0</td>\n",
              "      <td>0</td>\n",
              "      <td>0</td>\n",
              "      <td>0</td>\n",
              "      <td>...</td>\n",
              "      <td>0</td>\n",
              "      <td>1</td>\n",
              "      <td>0</td>\n",
              "      <td>0</td>\n",
              "      <td>0</td>\n",
              "      <td>0</td>\n",
              "      <td>0</td>\n",
              "      <td>0</td>\n",
              "      <td>0</td>\n",
              "      <td>1</td>\n",
              "      <td>0</td>\n",
              "      <td>0</td>\n",
              "      <td>1</td>\n",
              "      <td>0</td>\n",
              "      <td>1</td>\n",
              "      <td>0</td>\n",
              "      <td>0</td>\n",
              "      <td>0</td>\n",
              "      <td>0</td>\n",
              "      <td>0</td>\n",
              "      <td>0</td>\n",
              "      <td>0</td>\n",
              "      <td>1</td>\n",
              "      <td>0</td>\n",
              "      <td>0</td>\n",
              "      <td>0</td>\n",
              "      <td>0</td>\n",
              "      <td>0</td>\n",
              "      <td>0</td>\n",
              "      <td>0</td>\n",
              "      <td>0</td>\n",
              "      <td>0</td>\n",
              "      <td>0</td>\n",
              "      <td>1</td>\n",
              "      <td>0</td>\n",
              "      <td>0</td>\n",
              "      <td>0</td>\n",
              "      <td>0</td>\n",
              "      <td>0</td>\n",
              "      <td>0</td>\n",
              "    </tr>\n",
              "  </tbody>\n",
              "</table>\n",
              "<p>5 rows × 96 columns</p>\n",
              "</div>"
            ],
            "text/plain": [
              "   cap-shape_c  cap-shape_f  cap-shape_k  ...  habitat_u  habitat_w  previsoes\n",
              "0            0            0            0  ...          1          0          1\n",
              "1            0            0            0  ...          0          0          0\n",
              "2            0            0            0  ...          0          0          0\n",
              "3            0            0            0  ...          1          0          1\n",
              "4            0            0            0  ...          0          0          0\n",
              "\n",
              "[5 rows x 96 columns]"
            ]
          },
          "metadata": {},
          "execution_count": 23
        }
      ]
    },
    {
      "cell_type": "code",
      "metadata": {
        "id": "EOJYA3Ux0ZfC",
        "colab": {
          "base_uri": "https://localhost:8080/",
          "height": 312
        },
        "outputId": "b9cf80a7-72da-4d0f-e0ef-762aea6e21df"
      },
      "source": [
        "# Matriz de confusão\n",
        "from sklearn.metrics import confusion_matrix\n",
        "confMatrix = confusion_matrix(predictions, y_df_infer_dummies)\n",
        "\n",
        "ax = plt.subplot()\n",
        "sns.heatmap(confMatrix, annot=True, fmt=\".0f\")\n",
        "plt.xlabel('Real')\n",
        "plt.ylabel('Previsto')\n",
        "plt.title('Matriz de Confusão')\n"
      ],
      "execution_count": 24,
      "outputs": [
        {
          "output_type": "execute_result",
          "data": {
            "text/plain": [
              "Text(0.5, 1.0, 'Matriz de Confusão')"
            ]
          },
          "metadata": {},
          "execution_count": 24
        },
        {
          "output_type": "display_data",
          "data": {
            "image/png": "[encoded data removed]",
            "text/plain": [
              "<Figure size 432x288 with 2 Axes>"
            ]
          },
          "metadata": {
            "needs_background": "light"
          }
        }
      ]
    },
    {
      "cell_type": "code",
      "metadata": {
        "id": "JICZOrdeBzkO",
        "colab": {
          "base_uri": "https://localhost:8080/"
        },
        "outputId": "2d798682-d57d-498c-b0c0-33d8e7df5a77"
      },
      "source": [
        "# Acurácia\n",
        "from sklearn.metrics import accuracy_score\n",
        "accuracy = accuracy_score(y_df_infer_dummies, predictions)\n",
        "print('Acurácia: ', accuracy)\n"
      ],
      "execution_count": 28,
      "outputs": [
        {
          "output_type": "stream",
          "text": [
            "Acurácia:  0.9901526341703595\n"
          ],
          "name": "stdout"
        }
      ]
    },
    {
      "cell_type": "markdown",
      "metadata": {
        "id": "us7uPWh3I4gd"
      },
      "source": [
        "### CONCLUSÃO: o modelo de random forest com 4 ramificações (max_depth) consegue um acurácia de 99% quando aplicado sobre toda a amostra."
      ]
    },
    {
      "cell_type": "code",
      "metadata": {
        "id": "zPrmRrooINfp"
      },
      "source": [
        ""
      ],
      "execution_count": null,
      "outputs": []
    }
  ]
}